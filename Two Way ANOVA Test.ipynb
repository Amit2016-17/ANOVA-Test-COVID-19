{
 "cells": [
  {
   "cell_type": "code",
   "execution_count": 198,
   "metadata": {},
   "outputs": [],
   "source": [
    "#Import libraries\n",
    "import pandas as pd\n",
    "import numpy as np\n",
    "\n",
    "# load packages\n",
    "import scipy.stats as stats\n",
    "import os\n",
    "from statsmodels.formula.api import ols\n",
    "import statsmodels.api as sm\n",
    "\n",
    "import statsmodels.stats.multicomp\n",
    "from statsmodels.graphics.api import interaction_plot, abline_plot\n",
    "\n",
    "from statsmodels.formula.api import ols\n",
    "from statsmodels.stats.anova import anova_lm\n",
    "import matplotlib.pyplot as plt\n",
    "from scipy import stats\n",
    "import seaborn as sns\n",
    "import random\n",
    "import math\n",
    "import statistics \n",
    "\n",
    "os.getcwd()\n",
    "os.chdir('D:\\Qurantine\\Blog\\ANOVA Test')\n"
   ]
  },
  {
   "cell_type": "code",
   "execution_count": 199,
   "metadata": {},
   "outputs": [],
   "source": [
    "####Load Data\n",
    "individualDetails=pd.read_csv('./individualDetails.csv',parse_dates=[2])\n",
    "stateDensity=pd.read_csv('./stateDensity.csv')\n"
   ]
  },
  {
   "cell_type": "code",
   "execution_count": 200,
   "metadata": {},
   "outputs": [
    {
     "data": {
      "text/html": [
       "<div>\n",
       "<style scoped>\n",
       "    .dataframe tbody tr th:only-of-type {\n",
       "        vertical-align: middle;\n",
       "    }\n",
       "\n",
       "    .dataframe tbody tr th {\n",
       "        vertical-align: top;\n",
       "    }\n",
       "\n",
       "    .dataframe thead th {\n",
       "        text-align: right;\n",
       "    }\n",
       "</style>\n",
       "<table border=\"1\" class=\"dataframe\">\n",
       "  <thead>\n",
       "    <tr style=\"text-align: right;\">\n",
       "      <th></th>\n",
       "      <th>id</th>\n",
       "      <th>government_id</th>\n",
       "      <th>diagnosed_date</th>\n",
       "      <th>age</th>\n",
       "      <th>gender</th>\n",
       "      <th>detected_city</th>\n",
       "      <th>detected_district</th>\n",
       "      <th>State</th>\n",
       "      <th>nationality</th>\n",
       "      <th>current_status</th>\n",
       "      <th>status_change_date</th>\n",
       "      <th>notes</th>\n",
       "    </tr>\n",
       "  </thead>\n",
       "  <tbody>\n",
       "    <tr>\n",
       "      <th>0</th>\n",
       "      <td>0</td>\n",
       "      <td>KL-TS-P1</td>\n",
       "      <td>2020-01-30</td>\n",
       "      <td>20</td>\n",
       "      <td>F</td>\n",
       "      <td>Thrissur</td>\n",
       "      <td>Thrissur</td>\n",
       "      <td>Kerala</td>\n",
       "      <td>India</td>\n",
       "      <td>Recovered</td>\n",
       "      <td>14-02-2020</td>\n",
       "      <td>Travelled from Wuhan</td>\n",
       "    </tr>\n",
       "    <tr>\n",
       "      <th>1</th>\n",
       "      <td>1</td>\n",
       "      <td>KL-AL-P1</td>\n",
       "      <td>2020-02-02</td>\n",
       "      <td>NaN</td>\n",
       "      <td>NaN</td>\n",
       "      <td>Alappuzha</td>\n",
       "      <td>Alappuzha</td>\n",
       "      <td>Kerala</td>\n",
       "      <td>India</td>\n",
       "      <td>Recovered</td>\n",
       "      <td>14-02-2020</td>\n",
       "      <td>Travelled from Wuhan</td>\n",
       "    </tr>\n",
       "    <tr>\n",
       "      <th>2</th>\n",
       "      <td>2</td>\n",
       "      <td>KL-KS-P1</td>\n",
       "      <td>2020-03-02</td>\n",
       "      <td>NaN</td>\n",
       "      <td>NaN</td>\n",
       "      <td>Kasaragod</td>\n",
       "      <td>Kasaragod</td>\n",
       "      <td>Kerala</td>\n",
       "      <td>India</td>\n",
       "      <td>Recovered</td>\n",
       "      <td>14-02-2020</td>\n",
       "      <td>Travelled from Wuhan</td>\n",
       "    </tr>\n",
       "    <tr>\n",
       "      <th>3</th>\n",
       "      <td>3</td>\n",
       "      <td>DL-P1</td>\n",
       "      <td>2020-02-03</td>\n",
       "      <td>45</td>\n",
       "      <td>M</td>\n",
       "      <td>East Delhi (Mayur Vihar)</td>\n",
       "      <td>East Delhi</td>\n",
       "      <td>Delhi</td>\n",
       "      <td>India</td>\n",
       "      <td>Recovered</td>\n",
       "      <td>15-03-2020</td>\n",
       "      <td>Travelled from Austria, Italy</td>\n",
       "    </tr>\n",
       "    <tr>\n",
       "      <th>4</th>\n",
       "      <td>4</td>\n",
       "      <td>TS-P1</td>\n",
       "      <td>2020-02-03</td>\n",
       "      <td>24</td>\n",
       "      <td>M</td>\n",
       "      <td>Hyderabad</td>\n",
       "      <td>Hyderabad</td>\n",
       "      <td>Telangana</td>\n",
       "      <td>India</td>\n",
       "      <td>Recovered</td>\n",
       "      <td>02-03-2020</td>\n",
       "      <td>Travelled from Dubai to Bangalore on 20th Feb,...</td>\n",
       "    </tr>\n",
       "  </tbody>\n",
       "</table>\n",
       "</div>"
      ],
      "text/plain": [
       "   id government_id diagnosed_date  age gender             detected_city  \\\n",
       "0   0      KL-TS-P1     2020-01-30   20      F                  Thrissur   \n",
       "1   1      KL-AL-P1     2020-02-02  NaN    NaN                 Alappuzha   \n",
       "2   2      KL-KS-P1     2020-03-02  NaN    NaN                 Kasaragod   \n",
       "3   3         DL-P1     2020-02-03   45      M  East Delhi (Mayur Vihar)   \n",
       "4   4         TS-P1     2020-02-03   24      M                 Hyderabad   \n",
       "\n",
       "  detected_district      State nationality current_status status_change_date  \\\n",
       "0          Thrissur     Kerala       India      Recovered         14-02-2020   \n",
       "1         Alappuzha     Kerala       India      Recovered         14-02-2020   \n",
       "2         Kasaragod     Kerala       India      Recovered         14-02-2020   \n",
       "3        East Delhi      Delhi       India      Recovered         15-03-2020   \n",
       "4         Hyderabad  Telangana       India      Recovered         02-03-2020   \n",
       "\n",
       "                                               notes  \n",
       "0                               Travelled from Wuhan  \n",
       "1                               Travelled from Wuhan  \n",
       "2                               Travelled from Wuhan  \n",
       "3                      Travelled from Austria, Italy  \n",
       "4  Travelled from Dubai to Bangalore on 20th Feb,...  "
      ]
     },
     "execution_count": 200,
     "metadata": {},
     "output_type": "execute_result"
    }
   ],
   "source": [
    "individualDetails.head()"
   ]
  },
  {
   "cell_type": "code",
   "execution_count": 201,
   "metadata": {},
   "outputs": [
    {
     "data": {
      "text/plain": [
       "(0, 12)"
      ]
     },
     "execution_count": 201,
     "metadata": {},
     "output_type": "execute_result"
    }
   ],
   "source": [
    "individualDetails[individualDetails['age']==0].shape # There's nobody with age=0"
   ]
  },
  {
   "cell_type": "code",
   "execution_count": 202,
   "metadata": {},
   "outputs": [
    {
     "data": {
      "text/plain": [
       "id                             int64\n",
       "government_id                 object\n",
       "diagnosed_date        datetime64[ns]\n",
       "age                           object\n",
       "gender                        object\n",
       "detected_city                 object\n",
       "detected_district             object\n",
       "State                         object\n",
       "nationality                   object\n",
       "current_status                object\n",
       "status_change_date            object\n",
       "notes                         object\n",
       "dtype: object"
      ]
     },
     "execution_count": 202,
     "metadata": {},
     "output_type": "execute_result"
    }
   ],
   "source": [
    "individualDetails.dtypes"
   ]
  },
  {
   "cell_type": "code",
   "execution_count": 203,
   "metadata": {},
   "outputs": [
    {
     "name": "stderr",
     "output_type": "stream",
     "text": [
      "C:\\Users\\PraveenKumar\\anaconda3\\lib\\site-packages\\ipykernel_launcher.py:5: SettingWithCopyWarning: \n",
      "A value is trying to be set on a copy of a slice from a DataFrame\n",
      "\n",
      "See the caveats in the documentation: https://pandas.pydata.org/pandas-docs/stable/user_guide/indexing.html#returning-a-view-versus-a-copy\n",
      "  \"\"\"\n",
      "C:\\Users\\PraveenKumar\\anaconda3\\lib\\site-packages\\ipykernel_launcher.py:7: SettingWithCopyWarning: \n",
      "A value is trying to be set on a copy of a slice from a DataFrame\n",
      "\n",
      "See the caveats in the documentation: https://pandas.pydata.org/pandas-docs/stable/user_guide/indexing.html#returning-a-view-versus-a-copy\n",
      "  import sys\n"
     ]
    }
   ],
   "source": [
    "# Transform data in legit format\n",
    "for index , row in individualDetails.iterrows():\n",
    "    if not pd.isnull(row['age']):\n",
    "        if len(row['age'].split('-'))>1:\n",
    "                    individualDetails['age'][index]=round((int(row['age'].split('-')[0])+int(row['age'].split('-')[1]))/2)\n",
    "        elif len(row['age'].split('.'))>1:    \n",
    "            individualDetails['age'][index]=round(float(row['age']))\n",
    "        else:\n",
    "            pass"
   ]
  },
  {
   "cell_type": "code",
   "execution_count": 204,
   "metadata": {},
   "outputs": [
    {
     "data": {
      "text/plain": [
       "id                        0\n",
       "government_id         24893\n",
       "diagnosed_date            0\n",
       "age                   25544\n",
       "gender                22577\n",
       "detected_city         25543\n",
       "detected_district      7650\n",
       "State                     0\n",
       "nationality           25183\n",
       "current_status            0\n",
       "status_change_date      110\n",
       "notes                  1335\n",
       "dtype: int64"
      ]
     },
     "execution_count": 204,
     "metadata": {},
     "output_type": "execute_result"
    }
   ],
   "source": [
    "#Check for missing values\n",
    "individualDetails.isna().sum()"
   ]
  },
  {
   "cell_type": "code",
   "execution_count": 205,
   "metadata": {},
   "outputs": [
    {
     "name": "stdout",
     "output_type": "stream",
     "text": [
      "Percentage of missing values in age & gender columns respectively : 91.58838293295088 % 80.95016134815346 %\n"
     ]
    }
   ],
   "source": [
    "print('Percentage of missing values in age & gender columns respectively :', \\\n",
    "      (individualDetails['age'].isna().sum()/individualDetails.shape[0])*100,'%',\\\n",
    "      (individualDetails['gender'].isna().sum()/individualDetails.shape[0])*100,'%')"
   ]
  },
  {
   "cell_type": "code",
   "execution_count": 206,
   "metadata": {},
   "outputs": [
    {
     "data": {
      "text/plain": [
       "0.9158838293295087"
      ]
     },
     "execution_count": 206,
     "metadata": {},
     "output_type": "execute_result"
    }
   ],
   "source": [
    "25544/individualDetails.shape[0]"
   ]
  },
  {
   "cell_type": "code",
   "execution_count": 207,
   "metadata": {},
   "outputs": [],
   "source": [
    "#We see that there're 25544 missing entires in age column i.e.almost 92% of overall Data Size. So in lieu of imputing\n",
    "#missing values with median or Mode , I'll impute it with mean. \n"
   ]
  },
  {
   "cell_type": "code",
   "execution_count": 208,
   "metadata": {},
   "outputs": [
    {
     "name": "stderr",
     "output_type": "stream",
     "text": [
      "C:\\Users\\PraveenKumar\\anaconda3\\lib\\site-packages\\ipykernel_launcher.py:2: SettingWithCopyWarning: \n",
      "A value is trying to be set on a copy of a slice from a DataFrame.\n",
      "Try using .loc[row_indexer,col_indexer] = value instead\n",
      "\n",
      "See the caveats in the documentation: https://pandas.pydata.org/pandas-docs/stable/user_guide/indexing.html#returning-a-view-versus-a-copy\n",
      "  \n"
     ]
    }
   ],
   "source": [
    "ageMedianPerState=individualDetails[~individualDetails['age'].isna()]\n",
    "ageMedianPerState['age']=ageMedianPerState['age'].astype(str).astype(int)\n",
    "\n",
    "ageMedianPerState=ageMedianPerState.groupby('State')[['age']].median().reset_index()\n",
    "ageMedianPerState['age']=ageMedianPerState['age'].apply(lambda x:math.ceil(x))\n",
    "\n",
    "#Find the most frequent infected gender by COVID-19 for each state\n",
    "genderModePerState=individualDetails.groupby(['State'])['gender'].agg(pd.Series.mode).to_frame().reset_index()\n",
    "#Drop Arunachal Pradesh , Since this has got no informatio about gender overall\n",
    "genderModePerState=genderModePerState[genderModePerState['State']!='Arunachal Pradesh']"
   ]
  },
  {
   "cell_type": "code",
   "execution_count": 209,
   "metadata": {},
   "outputs": [
    {
     "data": {
      "text/html": [
       "<div>\n",
       "<style scoped>\n",
       "    .dataframe tbody tr th:only-of-type {\n",
       "        vertical-align: middle;\n",
       "    }\n",
       "\n",
       "    .dataframe tbody tr th {\n",
       "        vertical-align: top;\n",
       "    }\n",
       "\n",
       "    .dataframe thead th {\n",
       "        text-align: right;\n",
       "    }\n",
       "</style>\n",
       "<table border=\"1\" class=\"dataframe\">\n",
       "  <thead>\n",
       "    <tr style=\"text-align: right;\">\n",
       "      <th></th>\n",
       "      <th>State</th>\n",
       "      <th>age</th>\n",
       "    </tr>\n",
       "  </thead>\n",
       "  <tbody>\n",
       "    <tr>\n",
       "      <th>0</th>\n",
       "      <td>Andaman and Nicobar Islands</td>\n",
       "      <td>53</td>\n",
       "    </tr>\n",
       "    <tr>\n",
       "      <th>1</th>\n",
       "      <td>Andhra Pradesh</td>\n",
       "      <td>37</td>\n",
       "    </tr>\n",
       "    <tr>\n",
       "      <th>2</th>\n",
       "      <td>Assam</td>\n",
       "      <td>52</td>\n",
       "    </tr>\n",
       "    <tr>\n",
       "      <th>3</th>\n",
       "      <td>Bihar</td>\n",
       "      <td>31</td>\n",
       "    </tr>\n",
       "    <tr>\n",
       "      <th>4</th>\n",
       "      <td>Chandigarh</td>\n",
       "      <td>26</td>\n",
       "    </tr>\n",
       "  </tbody>\n",
       "</table>\n",
       "</div>"
      ],
      "text/plain": [
       "                         State  age\n",
       "0  Andaman and Nicobar Islands   53\n",
       "1               Andhra Pradesh   37\n",
       "2                        Assam   52\n",
       "3                        Bihar   31\n",
       "4                   Chandigarh   26"
      ]
     },
     "execution_count": 209,
     "metadata": {},
     "output_type": "execute_result"
    }
   ],
   "source": [
    "ageMedianPerState.head()\n"
   ]
  },
  {
   "cell_type": "code",
   "execution_count": 210,
   "metadata": {},
   "outputs": [
    {
     "data": {
      "text/html": [
       "<div>\n",
       "<style scoped>\n",
       "    .dataframe tbody tr th:only-of-type {\n",
       "        vertical-align: middle;\n",
       "    }\n",
       "\n",
       "    .dataframe tbody tr th {\n",
       "        vertical-align: top;\n",
       "    }\n",
       "\n",
       "    .dataframe thead th {\n",
       "        text-align: right;\n",
       "    }\n",
       "</style>\n",
       "<table border=\"1\" class=\"dataframe\">\n",
       "  <thead>\n",
       "    <tr style=\"text-align: right;\">\n",
       "      <th></th>\n",
       "      <th>State</th>\n",
       "      <th>gender</th>\n",
       "    </tr>\n",
       "  </thead>\n",
       "  <tbody>\n",
       "    <tr>\n",
       "      <th>0</th>\n",
       "      <td>Andaman and Nicobar Islands</td>\n",
       "      <td>M</td>\n",
       "    </tr>\n",
       "    <tr>\n",
       "      <th>1</th>\n",
       "      <td>Andhra Pradesh</td>\n",
       "      <td>M</td>\n",
       "    </tr>\n",
       "    <tr>\n",
       "      <th>3</th>\n",
       "      <td>Assam</td>\n",
       "      <td>M</td>\n",
       "    </tr>\n",
       "    <tr>\n",
       "      <th>4</th>\n",
       "      <td>Bihar</td>\n",
       "      <td>M</td>\n",
       "    </tr>\n",
       "    <tr>\n",
       "      <th>5</th>\n",
       "      <td>Chandigarh</td>\n",
       "      <td>M</td>\n",
       "    </tr>\n",
       "  </tbody>\n",
       "</table>\n",
       "</div>"
      ],
      "text/plain": [
       "                         State gender\n",
       "0  Andaman and Nicobar Islands      M\n",
       "1               Andhra Pradesh      M\n",
       "3                        Assam      M\n",
       "4                        Bihar      M\n",
       "5                   Chandigarh      M"
      ]
     },
     "execution_count": 210,
     "metadata": {},
     "output_type": "execute_result"
    }
   ],
   "source": [
    "genderModePerState.head()"
   ]
  },
  {
   "cell_type": "code",
   "execution_count": 211,
   "metadata": {},
   "outputs": [
    {
     "name": "stderr",
     "output_type": "stream",
     "text": [
      "C:\\Users\\PraveenKumar\\anaconda3\\lib\\site-packages\\ipykernel_launcher.py:7: SettingWithCopyWarning: \n",
      "A value is trying to be set on a copy of a slice from a DataFrame\n",
      "\n",
      "See the caveats in the documentation: https://pandas.pydata.org/pandas-docs/stable/user_guide/indexing.html#returning-a-view-versus-a-copy\n",
      "  import sys\n",
      "C:\\Users\\PraveenKumar\\anaconda3\\lib\\site-packages\\ipykernel_launcher.py:10: SettingWithCopyWarning: \n",
      "A value is trying to be set on a copy of a slice from a DataFrame\n",
      "\n",
      "See the caveats in the documentation: https://pandas.pydata.org/pandas-docs/stable/user_guide/indexing.html#returning-a-view-versus-a-copy\n",
      "  # Remove the CWD from sys.path while we load stuff.\n"
     ]
    }
   ],
   "source": [
    "#Impute missing values in age & gender columns now\n",
    "for index,row in individualDetails.iterrows():\n",
    "    if row['State']=='Arunachal Pradesh':     \n",
    "        individualDetails.drop([index],inplace=True)\n",
    "        continue\n",
    "    if pd.isnull(row['age']):\n",
    "        individualDetails['age'][index]=list(ageMedianPerState['age'][ageMedianPerState['State']=='West Bengal'].values)[0]\n",
    "    if pd.isnull(row['gender']):\n",
    "        if len(genderModePerState['gender'][genderModePerState['State']==row['State']].values)>0:\n",
    "            individualDetails['gender'][index]=(genderModePerState['gender'][genderModePerState['State']==row['State']].values[0])\n",
    "    "
   ]
  },
  {
   "cell_type": "code",
   "execution_count": 212,
   "metadata": {},
   "outputs": [
    {
     "data": {
      "text/plain": [
       "id                        0\n",
       "government_id         24892\n",
       "diagnosed_date            0\n",
       "age                       0\n",
       "gender                    0\n",
       "detected_city         25542\n",
       "detected_district      7650\n",
       "State                     0\n",
       "nationality           25183\n",
       "current_status            0\n",
       "status_change_date      110\n",
       "notes                  1335\n",
       "dtype: int64"
      ]
     },
     "execution_count": 212,
     "metadata": {},
     "output_type": "execute_result"
    }
   ],
   "source": [
    "individualDetails.isna().sum()"
   ]
  },
  {
   "cell_type": "code",
   "execution_count": 213,
   "metadata": {},
   "outputs": [],
   "source": [
    "#Merge individualDetails & stateDensity dataframes\n",
    "data=pd.merge(individualDetails,stateDensity,on='State',how='left').reset_index(drop=True)\n"
   ]
  },
  {
   "cell_type": "code",
   "execution_count": 214,
   "metadata": {},
   "outputs": [
    {
     "data": {
      "text/html": [
       "<div>\n",
       "<style scoped>\n",
       "    .dataframe tbody tr th:only-of-type {\n",
       "        vertical-align: middle;\n",
       "    }\n",
       "\n",
       "    .dataframe tbody tr th {\n",
       "        vertical-align: top;\n",
       "    }\n",
       "\n",
       "    .dataframe thead th {\n",
       "        text-align: right;\n",
       "    }\n",
       "</style>\n",
       "<table border=\"1\" class=\"dataframe\">\n",
       "  <thead>\n",
       "    <tr style=\"text-align: right;\">\n",
       "      <th></th>\n",
       "      <th>id</th>\n",
       "      <th>government_id</th>\n",
       "      <th>diagnosed_date</th>\n",
       "      <th>age</th>\n",
       "      <th>gender</th>\n",
       "      <th>detected_city</th>\n",
       "      <th>detected_district</th>\n",
       "      <th>State</th>\n",
       "      <th>nationality</th>\n",
       "      <th>current_status</th>\n",
       "      <th>status_change_date</th>\n",
       "      <th>notes</th>\n",
       "      <th>density_Group</th>\n",
       "    </tr>\n",
       "  </thead>\n",
       "  <tbody>\n",
       "    <tr>\n",
       "      <th>0</th>\n",
       "      <td>0</td>\n",
       "      <td>KL-TS-P1</td>\n",
       "      <td>2020-01-30</td>\n",
       "      <td>20</td>\n",
       "      <td>F</td>\n",
       "      <td>Thrissur</td>\n",
       "      <td>Thrissur</td>\n",
       "      <td>Kerala</td>\n",
       "      <td>India</td>\n",
       "      <td>Recovered</td>\n",
       "      <td>14-02-2020</td>\n",
       "      <td>Travelled from Wuhan</td>\n",
       "      <td>Dense3</td>\n",
       "    </tr>\n",
       "    <tr>\n",
       "      <th>1</th>\n",
       "      <td>1</td>\n",
       "      <td>KL-AL-P1</td>\n",
       "      <td>2020-02-02</td>\n",
       "      <td>50</td>\n",
       "      <td>M</td>\n",
       "      <td>Alappuzha</td>\n",
       "      <td>Alappuzha</td>\n",
       "      <td>Kerala</td>\n",
       "      <td>India</td>\n",
       "      <td>Recovered</td>\n",
       "      <td>14-02-2020</td>\n",
       "      <td>Travelled from Wuhan</td>\n",
       "      <td>Dense3</td>\n",
       "    </tr>\n",
       "    <tr>\n",
       "      <th>2</th>\n",
       "      <td>2</td>\n",
       "      <td>KL-KS-P1</td>\n",
       "      <td>2020-03-02</td>\n",
       "      <td>50</td>\n",
       "      <td>M</td>\n",
       "      <td>Kasaragod</td>\n",
       "      <td>Kasaragod</td>\n",
       "      <td>Kerala</td>\n",
       "      <td>India</td>\n",
       "      <td>Recovered</td>\n",
       "      <td>14-02-2020</td>\n",
       "      <td>Travelled from Wuhan</td>\n",
       "      <td>Dense3</td>\n",
       "    </tr>\n",
       "    <tr>\n",
       "      <th>3</th>\n",
       "      <td>3</td>\n",
       "      <td>DL-P1</td>\n",
       "      <td>2020-02-03</td>\n",
       "      <td>45</td>\n",
       "      <td>M</td>\n",
       "      <td>East Delhi (Mayur Vihar)</td>\n",
       "      <td>East Delhi</td>\n",
       "      <td>Delhi</td>\n",
       "      <td>India</td>\n",
       "      <td>Recovered</td>\n",
       "      <td>15-03-2020</td>\n",
       "      <td>Travelled from Austria, Italy</td>\n",
       "      <td>Dense4</td>\n",
       "    </tr>\n",
       "    <tr>\n",
       "      <th>4</th>\n",
       "      <td>4</td>\n",
       "      <td>TS-P1</td>\n",
       "      <td>2020-02-03</td>\n",
       "      <td>24</td>\n",
       "      <td>M</td>\n",
       "      <td>Hyderabad</td>\n",
       "      <td>Hyderabad</td>\n",
       "      <td>Telangana</td>\n",
       "      <td>India</td>\n",
       "      <td>Recovered</td>\n",
       "      <td>02-03-2020</td>\n",
       "      <td>Travelled from Dubai to Bangalore on 20th Feb,...</td>\n",
       "      <td>NaN</td>\n",
       "    </tr>\n",
       "  </tbody>\n",
       "</table>\n",
       "</div>"
      ],
      "text/plain": [
       "   id government_id diagnosed_date age gender             detected_city  \\\n",
       "0   0      KL-TS-P1     2020-01-30  20      F                  Thrissur   \n",
       "1   1      KL-AL-P1     2020-02-02  50      M                 Alappuzha   \n",
       "2   2      KL-KS-P1     2020-03-02  50      M                 Kasaragod   \n",
       "3   3         DL-P1     2020-02-03  45      M  East Delhi (Mayur Vihar)   \n",
       "4   4         TS-P1     2020-02-03  24      M                 Hyderabad   \n",
       "\n",
       "  detected_district      State nationality current_status status_change_date  \\\n",
       "0          Thrissur     Kerala       India      Recovered         14-02-2020   \n",
       "1         Alappuzha     Kerala       India      Recovered         14-02-2020   \n",
       "2         Kasaragod     Kerala       India      Recovered         14-02-2020   \n",
       "3        East Delhi      Delhi       India      Recovered         15-03-2020   \n",
       "4         Hyderabad  Telangana       India      Recovered         02-03-2020   \n",
       "\n",
       "                                               notes density_Group  \n",
       "0                               Travelled from Wuhan        Dense3  \n",
       "1                               Travelled from Wuhan        Dense3  \n",
       "2                               Travelled from Wuhan        Dense3  \n",
       "3                      Travelled from Austria, Italy        Dense4  \n",
       "4  Travelled from Dubai to Bangalore on 20th Feb,...           NaN  "
      ]
     },
     "execution_count": 214,
     "metadata": {},
     "output_type": "execute_result"
    }
   ],
   "source": [
    "data.head() # we see that there're NAs in density group coumn for Telangana & Manipur"
   ]
  },
  {
   "cell_type": "code",
   "execution_count": 215,
   "metadata": {},
   "outputs": [
    {
     "data": {
      "text/plain": [
       "(27889, 13)"
      ]
     },
     "execution_count": 215,
     "metadata": {},
     "output_type": "execute_result"
    }
   ],
   "source": [
    "data.shape"
   ]
  },
  {
   "cell_type": "code",
   "execution_count": 216,
   "metadata": {},
   "outputs": [
    {
     "data": {
      "text/plain": [
       "array(['Kerala', 'Delhi', 'Telangana', 'Rajasthan', 'Haryana',\n",
       "       'Uttar Pradesh', 'Ladakh', 'Tamil Nadu', 'Jammu and Kashmir',\n",
       "       'Karnataka', 'Maharashtra', 'Punjab', 'Andhra Pradesh',\n",
       "       'Uttarakhand', 'Odisha', 'Puducherry', 'West Bengal', 'Chandigarh',\n",
       "       'Chhattisgarh', 'Gujarat', 'Himachal Pradesh', 'Madhya Pradesh',\n",
       "       'Bihar', 'Manipur', 'Mizoram', 'Goa',\n",
       "       'Andaman and Nicobar Islands', 'Jharkhand', 'Assam', 'Tripura',\n",
       "       'Meghalaya'], dtype=object)"
      ]
     },
     "execution_count": 216,
     "metadata": {},
     "output_type": "execute_result"
    }
   ],
   "source": [
    "data['State'].unique()"
   ]
  },
  {
   "cell_type": "code",
   "execution_count": 193,
   "metadata": {},
   "outputs": [],
   "source": [
    "# data[data['State']=='Telangana']"
   ]
  },
  {
   "cell_type": "code",
   "execution_count": 217,
   "metadata": {},
   "outputs": [],
   "source": [
    "data.dropna(subset=['density_Group'],inplace=True) #Drop Telangana & Manipur."
   ]
  },
  {
   "cell_type": "code",
   "execution_count": 218,
   "metadata": {},
   "outputs": [],
   "source": [
    "data.reset_index(drop=True,inplace=True) #resetting index , since just now we've dropped few records"
   ]
  },
  {
   "cell_type": "code",
   "execution_count": 219,
   "metadata": {},
   "outputs": [
    {
     "name": "stderr",
     "output_type": "stream",
     "text": [
      "C:\\Users\\PraveenKumar\\anaconda3\\lib\\site-packages\\ipykernel_launcher.py:6: SettingWithCopyWarning: \n",
      "A value is trying to be set on a copy of a slice from a DataFrame\n",
      "\n",
      "See the caveats in the documentation: https://pandas.pydata.org/pandas-docs/stable/user_guide/indexing.html#returning-a-view-versus-a-copy\n",
      "  \n",
      "C:\\Users\\PraveenKumar\\anaconda3\\lib\\site-packages\\pandas\\core\\indexing.py:670: SettingWithCopyWarning: \n",
      "A value is trying to be set on a copy of a slice from a DataFrame\n",
      "\n",
      "See the caveats in the documentation: https://pandas.pydata.org/pandas-docs/stable/user_guide/indexing.html#returning-a-view-versus-a-copy\n",
      "  self._setitem_with_indexer(indexer, value)\n",
      "C:\\Users\\PraveenKumar\\anaconda3\\lib\\site-packages\\ipykernel_launcher.py:10: SettingWithCopyWarning: \n",
      "A value is trying to be set on a copy of a slice from a DataFrame\n",
      "\n",
      "See the caveats in the documentation: https://pandas.pydata.org/pandas-docs/stable/user_guide/indexing.html#returning-a-view-versus-a-copy\n",
      "  # Remove the CWD from sys.path while we load stuff.\n",
      "C:\\Users\\PraveenKumar\\anaconda3\\lib\\site-packages\\ipykernel_launcher.py:8: SettingWithCopyWarning: \n",
      "A value is trying to be set on a copy of a slice from a DataFrame\n",
      "\n",
      "See the caveats in the documentation: https://pandas.pydata.org/pandas-docs/stable/user_guide/indexing.html#returning-a-view-versus-a-copy\n",
      "  \n"
     ]
    }
   ],
   "source": [
    "#create Age Group bucket\n",
    "data['age_Group']=0\n",
    "for index, row in data.iterrows():\n",
    "    i=float(row['age'])\n",
    "    if 0<i<=20:\n",
    "        data['age_Group'][index]='Young'\n",
    "    elif 20<i<=40:\n",
    "        data['age_Group'][index]='Adult'\n",
    "    else:\n",
    "        data['age_Group'][index]='Old'"
   ]
  },
  {
   "cell_type": "code",
   "execution_count": 197,
   "metadata": {},
   "outputs": [
    {
     "data": {
      "text/html": [
       "<div>\n",
       "<style scoped>\n",
       "    .dataframe tbody tr th:only-of-type {\n",
       "        vertical-align: middle;\n",
       "    }\n",
       "\n",
       "    .dataframe tbody tr th {\n",
       "        vertical-align: top;\n",
       "    }\n",
       "\n",
       "    .dataframe thead th {\n",
       "        text-align: right;\n",
       "    }\n",
       "</style>\n",
       "<table border=\"1\" class=\"dataframe\">\n",
       "  <thead>\n",
       "    <tr style=\"text-align: right;\">\n",
       "      <th></th>\n",
       "      <th>id</th>\n",
       "      <th>government_id</th>\n",
       "      <th>diagnosed_date</th>\n",
       "      <th>age</th>\n",
       "      <th>gender</th>\n",
       "      <th>detected_city</th>\n",
       "      <th>detected_district</th>\n",
       "      <th>State</th>\n",
       "      <th>nationality</th>\n",
       "      <th>current_status</th>\n",
       "      <th>status_change_date</th>\n",
       "      <th>notes</th>\n",
       "      <th>density_Group</th>\n",
       "      <th>age_Group</th>\n",
       "    </tr>\n",
       "  </thead>\n",
       "  <tbody>\n",
       "    <tr>\n",
       "      <th>0</th>\n",
       "      <td>0</td>\n",
       "      <td>KL-TS-P1</td>\n",
       "      <td>2020-01-30</td>\n",
       "      <td>20</td>\n",
       "      <td>F</td>\n",
       "      <td>Thrissur</td>\n",
       "      <td>Thrissur</td>\n",
       "      <td>Kerala</td>\n",
       "      <td>India</td>\n",
       "      <td>Recovered</td>\n",
       "      <td>14-02-2020</td>\n",
       "      <td>Travelled from Wuhan</td>\n",
       "      <td>Dense3</td>\n",
       "      <td>Young</td>\n",
       "    </tr>\n",
       "    <tr>\n",
       "      <th>1</th>\n",
       "      <td>1</td>\n",
       "      <td>KL-AL-P1</td>\n",
       "      <td>2020-02-02</td>\n",
       "      <td>NaN</td>\n",
       "      <td>NaN</td>\n",
       "      <td>Alappuzha</td>\n",
       "      <td>Alappuzha</td>\n",
       "      <td>Kerala</td>\n",
       "      <td>India</td>\n",
       "      <td>Recovered</td>\n",
       "      <td>14-02-2020</td>\n",
       "      <td>Travelled from Wuhan</td>\n",
       "      <td>Dense3</td>\n",
       "      <td>Old</td>\n",
       "    </tr>\n",
       "    <tr>\n",
       "      <th>2</th>\n",
       "      <td>2</td>\n",
       "      <td>KL-KS-P1</td>\n",
       "      <td>2020-03-02</td>\n",
       "      <td>NaN</td>\n",
       "      <td>NaN</td>\n",
       "      <td>Kasaragod</td>\n",
       "      <td>Kasaragod</td>\n",
       "      <td>Kerala</td>\n",
       "      <td>India</td>\n",
       "      <td>Recovered</td>\n",
       "      <td>14-02-2020</td>\n",
       "      <td>Travelled from Wuhan</td>\n",
       "      <td>Dense3</td>\n",
       "      <td>Old</td>\n",
       "    </tr>\n",
       "    <tr>\n",
       "      <th>3</th>\n",
       "      <td>3</td>\n",
       "      <td>DL-P1</td>\n",
       "      <td>2020-02-03</td>\n",
       "      <td>45</td>\n",
       "      <td>M</td>\n",
       "      <td>East Delhi (Mayur Vihar)</td>\n",
       "      <td>East Delhi</td>\n",
       "      <td>Delhi</td>\n",
       "      <td>India</td>\n",
       "      <td>Recovered</td>\n",
       "      <td>15-03-2020</td>\n",
       "      <td>Travelled from Austria, Italy</td>\n",
       "      <td>Dense4</td>\n",
       "      <td>Old</td>\n",
       "    </tr>\n",
       "    <tr>\n",
       "      <th>4</th>\n",
       "      <td>5</td>\n",
       "      <td>NaN</td>\n",
       "      <td>2020-03-03</td>\n",
       "      <td>69</td>\n",
       "      <td>M</td>\n",
       "      <td>Jaipur</td>\n",
       "      <td>Italians*</td>\n",
       "      <td>Rajasthan</td>\n",
       "      <td>Italy</td>\n",
       "      <td>Recovered</td>\n",
       "      <td>03-03-2020</td>\n",
       "      <td>Travelled from Italy</td>\n",
       "      <td>Dense1</td>\n",
       "      <td>Old</td>\n",
       "    </tr>\n",
       "  </tbody>\n",
       "</table>\n",
       "</div>"
      ],
      "text/plain": [
       "   id government_id diagnosed_date  age gender             detected_city  \\\n",
       "0   0      KL-TS-P1     2020-01-30   20      F                  Thrissur   \n",
       "1   1      KL-AL-P1     2020-02-02  NaN    NaN                 Alappuzha   \n",
       "2   2      KL-KS-P1     2020-03-02  NaN    NaN                 Kasaragod   \n",
       "3   3         DL-P1     2020-02-03   45      M  East Delhi (Mayur Vihar)   \n",
       "4   5           NaN     2020-03-03   69      M                    Jaipur   \n",
       "\n",
       "  detected_district      State nationality current_status status_change_date  \\\n",
       "0          Thrissur     Kerala       India      Recovered         14-02-2020   \n",
       "1         Alappuzha     Kerala       India      Recovered         14-02-2020   \n",
       "2         Kasaragod     Kerala       India      Recovered         14-02-2020   \n",
       "3        East Delhi      Delhi       India      Recovered         15-03-2020   \n",
       "4         Italians*  Rajasthan       Italy      Recovered         03-03-2020   \n",
       "\n",
       "                           notes density_Group age_Group  \n",
       "0           Travelled from Wuhan        Dense3     Young  \n",
       "1           Travelled from Wuhan        Dense3       Old  \n",
       "2           Travelled from Wuhan        Dense3       Old  \n",
       "3  Travelled from Austria, Italy        Dense4       Old  \n",
       "4           Travelled from Italy        Dense1       Old  "
      ]
     },
     "execution_count": 197,
     "metadata": {},
     "output_type": "execute_result"
    }
   ],
   "source": [
    "data.head()"
   ]
  },
  {
   "cell_type": "code",
   "execution_count": 220,
   "metadata": {},
   "outputs": [
    {
     "data": {
      "text/html": [
       "<div>\n",
       "<style scoped>\n",
       "    .dataframe tbody tr th:only-of-type {\n",
       "        vertical-align: middle;\n",
       "    }\n",
       "\n",
       "    .dataframe tbody tr th {\n",
       "        vertical-align: top;\n",
       "    }\n",
       "\n",
       "    .dataframe thead th {\n",
       "        text-align: right;\n",
       "    }\n",
       "</style>\n",
       "<table border=\"1\" class=\"dataframe\">\n",
       "  <thead>\n",
       "    <tr style=\"text-align: right;\">\n",
       "      <th></th>\n",
       "      <th>id</th>\n",
       "      <th>government_id</th>\n",
       "      <th>diagnosed_date</th>\n",
       "      <th>age</th>\n",
       "      <th>gender</th>\n",
       "      <th>detected_city</th>\n",
       "      <th>detected_district</th>\n",
       "      <th>State</th>\n",
       "      <th>nationality</th>\n",
       "      <th>current_status</th>\n",
       "      <th>status_change_date</th>\n",
       "      <th>notes</th>\n",
       "      <th>density_Group</th>\n",
       "      <th>age_Group</th>\n",
       "    </tr>\n",
       "  </thead>\n",
       "  <tbody>\n",
       "  </tbody>\n",
       "</table>\n",
       "</div>"
      ],
      "text/plain": [
       "Empty DataFrame\n",
       "Columns: [id, government_id, diagnosed_date, age, gender, detected_city, detected_district, State, nationality, current_status, status_change_date, notes, density_Group, age_Group]\n",
       "Index: []"
      ]
     },
     "execution_count": 220,
     "metadata": {},
     "output_type": "execute_result"
    }
   ],
   "source": [
    "data[data['age_Group']==0]"
   ]
  },
  {
   "cell_type": "code",
   "execution_count": 221,
   "metadata": {},
   "outputs": [],
   "source": [
    "## Merge the data to get dataset with each person mapped with their age group and their respective state density group\n",
    "patient_Count=data.groupby(['diagnosed_date','density_Group'])[['diagnosed_date']].count().\\\n",
    "                        rename(columns={'diagnosed_date':'Count'}).reset_index()\n",
    "data=pd.merge(data,patient_Count,on=['diagnosed_date','density_Group'],how='inner')"
   ]
  },
  {
   "cell_type": "code",
   "execution_count": 228,
   "metadata": {},
   "outputs": [],
   "source": [
    "#Rearrange Dataframe\n",
    "newData=data.groupby(['density_Group','age_Group'])['Count'].apply(list).reset_index()"
   ]
  },
  {
   "cell_type": "code",
   "execution_count": 229,
   "metadata": {},
   "outputs": [
    {
     "data": {
      "text/html": [
       "<div>\n",
       "<style scoped>\n",
       "    .dataframe tbody tr th:only-of-type {\n",
       "        vertical-align: middle;\n",
       "    }\n",
       "\n",
       "    .dataframe tbody tr th {\n",
       "        vertical-align: top;\n",
       "    }\n",
       "\n",
       "    .dataframe thead th {\n",
       "        text-align: right;\n",
       "    }\n",
       "</style>\n",
       "<table border=\"1\" class=\"dataframe\">\n",
       "  <thead>\n",
       "    <tr style=\"text-align: right;\">\n",
       "      <th></th>\n",
       "      <th>density_Group</th>\n",
       "      <th>age_Group</th>\n",
       "      <th>Count</th>\n",
       "    </tr>\n",
       "  </thead>\n",
       "  <tbody>\n",
       "    <tr>\n",
       "      <th>0</th>\n",
       "      <td>Dense1</td>\n",
       "      <td>Adult</td>\n",
       "      <td>[1, 2, 5, 4, 4, 6, 16, 16, 16, 7, 7, 23, 23, 2...</td>\n",
       "    </tr>\n",
       "    <tr>\n",
       "      <th>1</th>\n",
       "      <td>Dense1</td>\n",
       "      <td>Old</td>\n",
       "      <td>[1, 1, 2, 2, 1, 1, 1, 1, 1, 2, 5, 5, 5, 5, 4, ...</td>\n",
       "    </tr>\n",
       "    <tr>\n",
       "      <th>2</th>\n",
       "      <td>Dense1</td>\n",
       "      <td>Young</td>\n",
       "      <td>[4, 6, 18, 18, 27, 27, 32, 11, 41, 84, 191, 19...</td>\n",
       "    </tr>\n",
       "    <tr>\n",
       "      <th>3</th>\n",
       "      <td>Dense2</td>\n",
       "      <td>Adult</td>\n",
       "      <td>[6, 5, 5, 5, 5, 9, 6, 8, 7, 7, 7, 10, 10, 10, ...</td>\n",
       "    </tr>\n",
       "    <tr>\n",
       "      <th>4</th>\n",
       "      <td>Dense2</td>\n",
       "      <td>Old</td>\n",
       "      <td>[14, 14, 14, 14, 14, 14, 14, 14, 14, 14, 14, 1...</td>\n",
       "    </tr>\n",
       "  </tbody>\n",
       "</table>\n",
       "</div>"
      ],
      "text/plain": [
       "  density_Group age_Group                                              Count\n",
       "0        Dense1     Adult  [1, 2, 5, 4, 4, 6, 16, 16, 16, 7, 7, 23, 23, 2...\n",
       "1        Dense1       Old  [1, 1, 2, 2, 1, 1, 1, 1, 1, 2, 5, 5, 5, 5, 4, ...\n",
       "2        Dense1     Young  [4, 6, 18, 18, 27, 27, 32, 11, 41, 84, 191, 19...\n",
       "3        Dense2     Adult  [6, 5, 5, 5, 5, 9, 6, 8, 7, 7, 7, 10, 10, 10, ...\n",
       "4        Dense2       Old  [14, 14, 14, 14, 14, 14, 14, 14, 14, 14, 14, 1..."
      ]
     },
     "execution_count": 229,
     "metadata": {},
     "output_type": "execute_result"
    }
   ],
   "source": [
    "newData.head()"
   ]
  },
  {
   "cell_type": "code",
   "execution_count": 230,
   "metadata": {},
   "outputs": [
    {
     "data": {
      "text/plain": [
       "(12, 3)"
      ]
     },
     "execution_count": 230,
     "metadata": {},
     "output_type": "execute_result"
    }
   ],
   "source": [
    "newData.shape"
   ]
  },
  {
   "cell_type": "code",
   "execution_count": 231,
   "metadata": {},
   "outputs": [],
   "source": [
    "#Select random samples of each category\n",
    "np.random.seed(1234)\n",
    "AnovaData=pd.DataFrame(columns=['density_Group','age_Group','Count'])\n",
    "for index,row in newData.iterrows():\n",
    "    count=17\n",
    "    tempDf=pd.DataFrame(index=range(0,count),columns=['density_Group','age_Group','Count'])\n",
    "    \n",
    "    tempDf['age_Group']=newData['age_Group'][index]\n",
    "    tempDf['density_Group']=newData['density_Group'][index]\n",
    "    tempDf['Count']=random.sample(list(newData['Count'][index]),count)\n",
    "    AnovaData=pd.concat([AnovaData,tempDf],axis=0)\n",
    "    \n",
    "    "
   ]
  },
  {
   "cell_type": "code",
   "execution_count": 141,
   "metadata": {},
   "outputs": [],
   "source": [
    "AnovaData.to_csv('AnovaData.csv',index=False)"
   ]
  },
  {
   "cell_type": "code",
   "execution_count": 234,
   "metadata": {},
   "outputs": [
    {
     "data": {
      "image/png": "[encoded data removed]",
      "text/plain": [
       "<Figure size 432x288 with 1 Axes>"
      ]
     },
     "metadata": {
      "needs_background": "light"
     },
     "output_type": "display_data"
    },
    {
     "data": {
      "text/plain": [
       "<matplotlib.axes._subplots.AxesSubplot at 0x21a9a977088>"
      ]
     },
     "execution_count": 234,
     "metadata": {},
     "output_type": "execute_result"
    },
    {
     "data": {
      "image/png": "[encoded data removed]",
      "text/plain": [
       "<Figure size 432x288 with 1 Axes>"
      ]
     },
     "metadata": {
      "needs_background": "light"
     },
     "output_type": "display_data"
    }
   ],
   "source": [
    "plt.hist(AnovaData['Count'])\n",
    "plt.show()\n",
    "sns.kdeplot(AnovaData['Count'],cumulative=False,bw=2)"
   ]
  },
  {
   "cell_type": "code",
   "execution_count": 143,
   "metadata": {},
   "outputs": [],
   "source": [
    "# AnovaData['Count']=AnovaData['Count']+1"
   ]
  },
  {
   "cell_type": "code",
   "execution_count": 225,
   "metadata": {},
   "outputs": [
    {
     "data": {
      "text/plain": [
       "density_Group     object\n",
       "age_Group         object\n",
       "newCount         float64\n",
       "dtype: object"
      ]
     },
     "execution_count": 225,
     "metadata": {},
     "output_type": "execute_result"
    }
   ],
   "source": [
    "AnovaData.dtypes"
   ]
  },
  {
   "cell_type": "code",
   "execution_count": 233,
   "metadata": {},
   "outputs": [
    {
     "data": {
      "text/plain": [
       "<matplotlib.axes._subplots.AxesSubplot at 0x21a9ea813c8>"
      ]
     },
     "execution_count": 233,
     "metadata": {},
     "output_type": "execute_result"
    },
    {
     "data": {
      "image/png": "[encoded data removed]",
      "text/plain": [
       "<Figure size 432x288 with 1 Axes>"
      ]
     },
     "metadata": {
      "needs_background": "light"
     },
     "output_type": "display_data"
    }
   ],
   "source": [
    "#Check for outliers\n",
    "sns.boxplot(x='age_Group', y='Count', \n",
    "                 data=AnovaData, \n",
    "                 palette=\"colorblind\")\n"
   ]
  },
  {
   "cell_type": "code",
   "execution_count": 236,
   "metadata": {},
   "outputs": [],
   "source": [
    "AnovaData['Count']=AnovaData['Count'].astype(int)"
   ]
  },
  {
   "cell_type": "code",
   "execution_count": 237,
   "metadata": {},
   "outputs": [],
   "source": [
    "# Data Transformation\n",
    "AnovaData['newCount'],fitted_lambda = stats.boxcox(AnovaData['Count'])"
   ]
  },
  {
   "cell_type": "code",
   "execution_count": 238,
   "metadata": {},
   "outputs": [
    {
     "data": {
      "text/plain": [
       "<matplotlib.axes._subplots.AxesSubplot at 0x21a9aaba588>"
      ]
     },
     "execution_count": 238,
     "metadata": {},
     "output_type": "execute_result"
    },
    {
     "data": {
      "image/png": "[encoded data removed]",
      "text/plain": [
       "<Figure size 432x288 with 1 Axes>"
      ]
     },
     "metadata": {
      "needs_background": "light"
     },
     "output_type": "display_data"
    }
   ],
   "source": [
    "import matplotlib.pyplot as plt\n",
    "sns.kdeplot(AnovaData['newCount'],cumulative=False,bw=2)"
   ]
  },
  {
   "cell_type": "code",
   "execution_count": 148,
   "metadata": {},
   "outputs": [
    {
     "data": {
      "text/html": [
       "<div>\n",
       "<style scoped>\n",
       "    .dataframe tbody tr th:only-of-type {\n",
       "        vertical-align: middle;\n",
       "    }\n",
       "\n",
       "    .dataframe tbody tr th {\n",
       "        vertical-align: top;\n",
       "    }\n",
       "\n",
       "    .dataframe thead th {\n",
       "        text-align: right;\n",
       "    }\n",
       "</style>\n",
       "<table border=\"1\" class=\"dataframe\">\n",
       "  <thead>\n",
       "    <tr style=\"text-align: right;\">\n",
       "      <th></th>\n",
       "      <th>density_Group</th>\n",
       "      <th>age_Group</th>\n",
       "      <th>Count</th>\n",
       "      <th>newCount</th>\n",
       "    </tr>\n",
       "  </thead>\n",
       "  <tbody>\n",
       "    <tr>\n",
       "      <th>0</th>\n",
       "      <td>Dense1</td>\n",
       "      <td>Adult</td>\n",
       "      <td>206</td>\n",
       "      <td>8.182329</td>\n",
       "    </tr>\n",
       "    <tr>\n",
       "      <th>1</th>\n",
       "      <td>Dense1</td>\n",
       "      <td>Adult</td>\n",
       "      <td>5</td>\n",
       "      <td>1.821831</td>\n",
       "    </tr>\n",
       "    <tr>\n",
       "      <th>2</th>\n",
       "      <td>Dense1</td>\n",
       "      <td>Adult</td>\n",
       "      <td>36</td>\n",
       "      <td>4.754236</td>\n",
       "    </tr>\n",
       "    <tr>\n",
       "      <th>3</th>\n",
       "      <td>Dense1</td>\n",
       "      <td>Adult</td>\n",
       "      <td>32</td>\n",
       "      <td>4.553696</td>\n",
       "    </tr>\n",
       "    <tr>\n",
       "      <th>4</th>\n",
       "      <td>Dense1</td>\n",
       "      <td>Adult</td>\n",
       "      <td>262</td>\n",
       "      <td>8.729745</td>\n",
       "    </tr>\n",
       "  </tbody>\n",
       "</table>\n",
       "</div>"
      ],
      "text/plain": [
       "  density_Group age_Group  Count  newCount\n",
       "0        Dense1     Adult    206  8.182329\n",
       "1        Dense1     Adult      5  1.821831\n",
       "2        Dense1     Adult     36  4.754236\n",
       "3        Dense1     Adult     32  4.553696\n",
       "4        Dense1     Adult    262  8.729745"
      ]
     },
     "execution_count": 148,
     "metadata": {},
     "output_type": "execute_result"
    }
   ],
   "source": [
    "AnovaData.head()"
   ]
  },
  {
   "cell_type": "code",
   "execution_count": 152,
   "metadata": {},
   "outputs": [
    {
     "data": {
      "text/plain": [
       "(204, 3)"
      ]
     },
     "execution_count": 152,
     "metadata": {},
     "output_type": "execute_result"
    }
   ],
   "source": [
    "AnovaData.shape"
   ]
  },
  {
   "cell_type": "code",
   "execution_count": 153,
   "metadata": {},
   "outputs": [
    {
     "data": {
      "text/plain": [
       "density_Group    0\n",
       "age_Group        0\n",
       "newCount         0\n",
       "dtype: int64"
      ]
     },
     "execution_count": 153,
     "metadata": {},
     "output_type": "execute_result"
    }
   ],
   "source": [
    "AnovaData.isna().sum()"
   ]
  },
  {
   "cell_type": "code",
   "execution_count": null,
   "metadata": {},
   "outputs": [],
   "source": []
  },
  {
   "cell_type": "code",
   "execution_count": 239,
   "metadata": {},
   "outputs": [
    {
     "name": "stdout",
     "output_type": "stream",
     "text": [
      "Overall model F( 5.0, 198.0) =  33.512842550732266, p =  1.0326134879241319e-24\n"
     ]
    },
    {
     "data": {
      "text/html": [
       "<table class=\"simpletable\">\n",
       "<caption>OLS Regression Results</caption>\n",
       "<tr>\n",
       "  <th>Dep. Variable:</th>        <td>newCount</td>     <th>  R-squared:         </th> <td>   0.458</td>\n",
       "</tr>\n",
       "<tr>\n",
       "  <th>Model:</th>                   <td>OLS</td>       <th>  Adj. R-squared:    </th> <td>   0.445</td>\n",
       "</tr>\n",
       "<tr>\n",
       "  <th>Method:</th>             <td>Least Squares</td>  <th>  F-statistic:       </th> <td>   33.51</td>\n",
       "</tr>\n",
       "<tr>\n",
       "  <th>Date:</th>             <td>Wed, 13 May 2020</td> <th>  Prob (F-statistic):</th> <td>1.03e-24</td>\n",
       "</tr>\n",
       "<tr>\n",
       "  <th>Time:</th>                 <td>20:24:15</td>     <th>  Log-Likelihood:    </th> <td> -472.72</td>\n",
       "</tr>\n",
       "<tr>\n",
       "  <th>No. Observations:</th>      <td>   204</td>      <th>  AIC:               </th> <td>   957.4</td>\n",
       "</tr>\n",
       "<tr>\n",
       "  <th>Df Residuals:</th>          <td>   198</td>      <th>  BIC:               </th> <td>   977.3</td>\n",
       "</tr>\n",
       "<tr>\n",
       "  <th>Df Model:</th>              <td>     5</td>      <th>                     </th>     <td> </td>   \n",
       "</tr>\n",
       "<tr>\n",
       "  <th>Covariance Type:</th>      <td>nonrobust</td>    <th>                     </th>     <td> </td>   \n",
       "</tr>\n",
       "</table>\n",
       "<table class=\"simpletable\">\n",
       "<tr>\n",
       "               <td></td>                 <th>coef</th>     <th>std err</th>      <th>t</th>      <th>P>|t|</th>  <th>[0.025</th>    <th>0.975]</th>  \n",
       "</tr>\n",
       "<tr>\n",
       "  <th>Intercept</th>                  <td>    5.8408</td> <td>    0.427</td> <td>   13.665</td> <td> 0.000</td> <td>    4.998</td> <td>    6.684</td>\n",
       "</tr>\n",
       "<tr>\n",
       "  <th>C(age_Group)[T.Old]</th>        <td>    1.8152</td> <td>    0.427</td> <td>    4.247</td> <td> 0.000</td> <td>    0.972</td> <td>    2.658</td>\n",
       "</tr>\n",
       "<tr>\n",
       "  <th>C(age_Group)[T.Young]</th>      <td>    0.5816</td> <td>    0.427</td> <td>    1.361</td> <td> 0.175</td> <td>   -0.261</td> <td>    1.425</td>\n",
       "</tr>\n",
       "<tr>\n",
       "  <th>C(density_Group)[T.Dense2]</th> <td>    4.7959</td> <td>    0.494</td> <td>    9.717</td> <td> 0.000</td> <td>    3.823</td> <td>    5.769</td>\n",
       "</tr>\n",
       "<tr>\n",
       "  <th>C(density_Group)[T.Dense3]</th> <td>   -0.7496</td> <td>    0.494</td> <td>   -1.519</td> <td> 0.130</td> <td>   -1.723</td> <td>    0.224</td>\n",
       "</tr>\n",
       "<tr>\n",
       "  <th>C(density_Group)[T.Dense4]</th> <td>    1.2143</td> <td>    0.494</td> <td>    2.460</td> <td> 0.015</td> <td>    0.241</td> <td>    2.188</td>\n",
       "</tr>\n",
       "</table>\n",
       "<table class=\"simpletable\">\n",
       "<tr>\n",
       "  <th>Omnibus:</th>       <td>32.329</td> <th>  Durbin-Watson:     </th> <td>   1.919</td>\n",
       "</tr>\n",
       "<tr>\n",
       "  <th>Prob(Omnibus):</th> <td> 0.000</td> <th>  Jarque-Bera (JB):  </th> <td>  44.786</td>\n",
       "</tr>\n",
       "<tr>\n",
       "  <th>Skew:</th>          <td>-0.956</td> <th>  Prob(JB):          </th> <td>1.88e-10</td>\n",
       "</tr>\n",
       "<tr>\n",
       "  <th>Kurtosis:</th>      <td> 4.269</td> <th>  Cond. No.          </th> <td>    5.35</td>\n",
       "</tr>\n",
       "</table><br/><br/>Warnings:<br/>[1] Standard Errors assume that the covariance matrix of the errors is correctly specified."
      ],
      "text/plain": [
       "<class 'statsmodels.iolib.summary.Summary'>\n",
       "\"\"\"\n",
       "                            OLS Regression Results                            \n",
       "==============================================================================\n",
       "Dep. Variable:               newCount   R-squared:                       0.458\n",
       "Model:                            OLS   Adj. R-squared:                  0.445\n",
       "Method:                 Least Squares   F-statistic:                     33.51\n",
       "Date:                Wed, 13 May 2020   Prob (F-statistic):           1.03e-24\n",
       "Time:                        20:24:15   Log-Likelihood:                -472.72\n",
       "No. Observations:                 204   AIC:                             957.4\n",
       "Df Residuals:                     198   BIC:                             977.3\n",
       "Df Model:                           5                                         \n",
       "Covariance Type:            nonrobust                                         \n",
       "==============================================================================================\n",
       "                                 coef    std err          t      P>|t|      [0.025      0.975]\n",
       "----------------------------------------------------------------------------------------------\n",
       "Intercept                      5.8408      0.427     13.665      0.000       4.998       6.684\n",
       "C(age_Group)[T.Old]            1.8152      0.427      4.247      0.000       0.972       2.658\n",
       "C(age_Group)[T.Young]          0.5816      0.427      1.361      0.175      -0.261       1.425\n",
       "C(density_Group)[T.Dense2]     4.7959      0.494      9.717      0.000       3.823       5.769\n",
       "C(density_Group)[T.Dense3]    -0.7496      0.494     -1.519      0.130      -1.723       0.224\n",
       "C(density_Group)[T.Dense4]     1.2143      0.494      2.460      0.015       0.241       2.188\n",
       "==============================================================================\n",
       "Omnibus:                       32.329   Durbin-Watson:                   1.919\n",
       "Prob(Omnibus):                  0.000   Jarque-Bera (JB):               44.786\n",
       "Skew:                          -0.956   Prob(JB):                     1.88e-10\n",
       "Kurtosis:                       4.269   Cond. No.                         5.35\n",
       "==============================================================================\n",
       "\n",
       "Warnings:\n",
       "[1] Standard Errors assume that the covariance matrix of the errors is correctly specified.\n",
       "\"\"\""
      ]
     },
     "execution_count": 239,
     "metadata": {},
     "output_type": "execute_result"
    }
   ],
   "source": [
    "# Fit the OlS model\n",
    "#Approach 1.\n",
    "model2 = ols('newCount ~ C(age_Group)+ C(density_Group)', AnovaData).fit()\n",
    "\n",
    "print(f\"Overall model F({model2.df_model: },{model2.df_resid: }) = {model2.fvalue: }, p = {model2.f_pvalue: }\")\n",
    "model2.summary()"
   ]
  },
  {
   "cell_type": "code",
   "execution_count": 240,
   "metadata": {},
   "outputs": [
    {
     "data": {
      "text/html": [
       "<div>\n",
       "<style scoped>\n",
       "    .dataframe tbody tr th:only-of-type {\n",
       "        vertical-align: middle;\n",
       "    }\n",
       "\n",
       "    .dataframe tbody tr th {\n",
       "        vertical-align: top;\n",
       "    }\n",
       "\n",
       "    .dataframe thead th {\n",
       "        text-align: right;\n",
       "    }\n",
       "</style>\n",
       "<table border=\"1\" class=\"dataframe\">\n",
       "  <thead>\n",
       "    <tr style=\"text-align: right;\">\n",
       "      <th></th>\n",
       "      <th>sum_sq</th>\n",
       "      <th>df</th>\n",
       "      <th>F</th>\n",
       "      <th>PR(&gt;F)</th>\n",
       "    </tr>\n",
       "  </thead>\n",
       "  <tbody>\n",
       "    <tr>\n",
       "      <th>C(age_Group)</th>\n",
       "      <td>116.843479</td>\n",
       "      <td>2.0</td>\n",
       "      <td>9.404867</td>\n",
       "      <td>1.253300e-04</td>\n",
       "    </tr>\n",
       "    <tr>\n",
       "      <th>C(density_Group)</th>\n",
       "      <td>924.042364</td>\n",
       "      <td>3.0</td>\n",
       "      <td>49.584826</td>\n",
       "      <td>6.007121e-24</td>\n",
       "    </tr>\n",
       "    <tr>\n",
       "      <th>Residual</th>\n",
       "      <td>1229.948768</td>\n",
       "      <td>198.0</td>\n",
       "      <td>NaN</td>\n",
       "      <td>NaN</td>\n",
       "    </tr>\n",
       "  </tbody>\n",
       "</table>\n",
       "</div>"
      ],
      "text/plain": [
       "                       sum_sq     df          F        PR(>F)\n",
       "C(age_Group)       116.843479    2.0   9.404867  1.253300e-04\n",
       "C(density_Group)   924.042364    3.0  49.584826  6.007121e-24\n",
       "Residual          1229.948768  198.0        NaN           NaN"
      ]
     },
     "execution_count": 240,
     "metadata": {},
     "output_type": "execute_result"
    }
   ],
   "source": [
    "# Creates the ANOVA table\n",
    "res2 = sm.stats.anova_lm(model2, typ=2)\n",
    "res2"
   ]
  },
  {
   "cell_type": "code",
   "execution_count": 241,
   "metadata": {},
   "outputs": [
    {
     "data": {
      "image/png": "[encoded data removed]",
      "text/plain": [
       "<Figure size 432x288 with 1 Axes>"
      ]
     },
     "metadata": {
      "needs_background": "light"
     },
     "output_type": "display_data"
    }
   ],
   "source": [
    "#Check the Normal distribution of residuals\n",
    "res = model2.resid \n",
    "fig = sm.qqplot(res, line='s')\n",
    "plt.show()"
   ]
  },
  {
   "cell_type": "code",
   "execution_count": 158,
   "metadata": {},
   "outputs": [],
   "source": [
    "#As we can see that, residuals are almost normally distributed . Although points at the extreme ends can be discounted."
   ]
  },
  {
   "cell_type": "code",
   "execution_count": 246,
   "metadata": {},
   "outputs": [
    {
     "data": {
      "text/html": [
       "<table class=\"simpletable\">\n",
       "<caption>OLS Regression Results</caption>\n",
       "<tr>\n",
       "  <th>Dep. Variable:</th>        <td>newCount</td>     <th>  R-squared:         </th> <td>   0.462</td>\n",
       "</tr>\n",
       "<tr>\n",
       "  <th>Model:</th>                   <td>OLS</td>       <th>  Adj. R-squared:    </th> <td>   0.431</td>\n",
       "</tr>\n",
       "<tr>\n",
       "  <th>Method:</th>             <td>Least Squares</td>  <th>  F-statistic:       </th> <td>   14.98</td>\n",
       "</tr>\n",
       "<tr>\n",
       "  <th>Date:</th>             <td>Wed, 13 May 2020</td> <th>  Prob (F-statistic):</th> <td>8.71e-21</td>\n",
       "</tr>\n",
       "<tr>\n",
       "  <th>Time:</th>                 <td>20:31:08</td>     <th>  Log-Likelihood:    </th> <td> -472.07</td>\n",
       "</tr>\n",
       "<tr>\n",
       "  <th>No. Observations:</th>      <td>   204</td>      <th>  AIC:               </th> <td>   968.1</td>\n",
       "</tr>\n",
       "<tr>\n",
       "  <th>Df Residuals:</th>          <td>   192</td>      <th>  BIC:               </th> <td>   1008.</td>\n",
       "</tr>\n",
       "<tr>\n",
       "  <th>Df Model:</th>              <td>    11</td>      <th>                     </th>     <td> </td>   \n",
       "</tr>\n",
       "<tr>\n",
       "  <th>Covariance Type:</th>      <td>nonrobust</td>    <th>                     </th>     <td> </td>   \n",
       "</tr>\n",
       "</table>\n",
       "<table class=\"simpletable\">\n",
       "<tr>\n",
       "                          <td></td>                            <th>coef</th>     <th>std err</th>      <th>t</th>      <th>P>|t|</th>  <th>[0.025</th>    <th>0.975]</th>  \n",
       "</tr>\n",
       "<tr>\n",
       "  <th>Intercept</th>                                        <td>    5.5649</td> <td>    0.612</td> <td>    9.094</td> <td> 0.000</td> <td>    4.358</td> <td>    6.772</td>\n",
       "</tr>\n",
       "<tr>\n",
       "  <th>C(age_Group)[T.Old]</th>                              <td>    2.5162</td> <td>    0.865</td> <td>    2.908</td> <td> 0.004</td> <td>    0.809</td> <td>    4.223</td>\n",
       "</tr>\n",
       "<tr>\n",
       "  <th>C(age_Group)[T.Young]</th>                            <td>    0.7083</td> <td>    0.865</td> <td>    0.819</td> <td> 0.414</td> <td>   -0.999</td> <td>    2.415</td>\n",
       "</tr>\n",
       "<tr>\n",
       "  <th>C(density_Group)[T.Dense2]</th>                       <td>    5.0590</td> <td>    0.865</td> <td>    5.846</td> <td> 0.000</td> <td>    3.352</td> <td>    6.766</td>\n",
       "</tr>\n",
       "<tr>\n",
       "  <th>C(density_Group)[T.Dense3]</th>                       <td>   -0.3141</td> <td>    0.865</td> <td>   -0.363</td> <td> 0.717</td> <td>   -2.021</td> <td>    1.393</td>\n",
       "</tr>\n",
       "<tr>\n",
       "  <th>C(density_Group)[T.Dense4]</th>                       <td>    1.6194</td> <td>    0.865</td> <td>    1.871</td> <td> 0.063</td> <td>   -0.087</td> <td>    3.326</td>\n",
       "</tr>\n",
       "<tr>\n",
       "  <th>C(age_Group)[T.Old]:C(density_Group)[T.Dense2]</th>   <td>   -0.6723</td> <td>    1.224</td> <td>   -0.549</td> <td> 0.583</td> <td>   -3.086</td> <td>    1.742</td>\n",
       "</tr>\n",
       "<tr>\n",
       "  <th>C(age_Group)[T.Young]:C(density_Group)[T.Dense2]</th> <td>   -0.1169</td> <td>    1.224</td> <td>   -0.096</td> <td> 0.924</td> <td>   -2.531</td> <td>    2.297</td>\n",
       "</tr>\n",
       "<tr>\n",
       "  <th>C(age_Group)[T.Old]:C(density_Group)[T.Dense3]</th>   <td>   -1.0047</td> <td>    1.224</td> <td>   -0.821</td> <td> 0.413</td> <td>   -3.419</td> <td>    1.409</td>\n",
       "</tr>\n",
       "<tr>\n",
       "  <th>C(age_Group)[T.Young]:C(density_Group)[T.Dense3]</th> <td>   -0.3018</td> <td>    1.224</td> <td>   -0.247</td> <td> 0.805</td> <td>   -2.716</td> <td>    2.112</td>\n",
       "</tr>\n",
       "<tr>\n",
       "  <th>C(age_Group)[T.Old]:C(density_Group)[T.Dense4]</th>   <td>   -1.1273</td> <td>    1.224</td> <td>   -0.921</td> <td> 0.358</td> <td>   -3.541</td> <td>    1.287</td>\n",
       "</tr>\n",
       "<tr>\n",
       "  <th>C(age_Group)[T.Young]:C(density_Group)[T.Dense4]</th> <td>   -0.0881</td> <td>    1.224</td> <td>   -0.072</td> <td> 0.943</td> <td>   -2.502</td> <td>    2.326</td>\n",
       "</tr>\n",
       "</table>\n",
       "<table class=\"simpletable\">\n",
       "<tr>\n",
       "  <th>Omnibus:</th>       <td>34.200</td> <th>  Durbin-Watson:     </th> <td>   1.934</td>\n",
       "</tr>\n",
       "<tr>\n",
       "  <th>Prob(Omnibus):</th> <td> 0.000</td> <th>  Jarque-Bera (JB):  </th> <td>  49.587</td>\n",
       "</tr>\n",
       "<tr>\n",
       "  <th>Skew:</th>          <td>-0.974</td> <th>  Prob(JB):          </th> <td>1.71e-11</td>\n",
       "</tr>\n",
       "<tr>\n",
       "  <th>Kurtosis:</th>      <td> 4.429</td> <th>  Cond. No.          </th> <td>    17.9</td>\n",
       "</tr>\n",
       "</table><br/><br/>Warnings:<br/>[1] Standard Errors assume that the covariance matrix of the errors is correctly specified."
      ],
      "text/plain": [
       "<class 'statsmodels.iolib.summary.Summary'>\n",
       "\"\"\"\n",
       "                            OLS Regression Results                            \n",
       "==============================================================================\n",
       "Dep. Variable:               newCount   R-squared:                       0.462\n",
       "Model:                            OLS   Adj. R-squared:                  0.431\n",
       "Method:                 Least Squares   F-statistic:                     14.98\n",
       "Date:                Wed, 13 May 2020   Prob (F-statistic):           8.71e-21\n",
       "Time:                        20:31:08   Log-Likelihood:                -472.07\n",
       "No. Observations:                 204   AIC:                             968.1\n",
       "Df Residuals:                     192   BIC:                             1008.\n",
       "Df Model:                          11                                         \n",
       "Covariance Type:            nonrobust                                         \n",
       "====================================================================================================================\n",
       "                                                       coef    std err          t      P>|t|      [0.025      0.975]\n",
       "--------------------------------------------------------------------------------------------------------------------\n",
       "Intercept                                            5.5649      0.612      9.094      0.000       4.358       6.772\n",
       "C(age_Group)[T.Old]                                  2.5162      0.865      2.908      0.004       0.809       4.223\n",
       "C(age_Group)[T.Young]                                0.7083      0.865      0.819      0.414      -0.999       2.415\n",
       "C(density_Group)[T.Dense2]                           5.0590      0.865      5.846      0.000       3.352       6.766\n",
       "C(density_Group)[T.Dense3]                          -0.3141      0.865     -0.363      0.717      -2.021       1.393\n",
       "C(density_Group)[T.Dense4]                           1.6194      0.865      1.871      0.063      -0.087       3.326\n",
       "C(age_Group)[T.Old]:C(density_Group)[T.Dense2]      -0.6723      1.224     -0.549      0.583      -3.086       1.742\n",
       "C(age_Group)[T.Young]:C(density_Group)[T.Dense2]    -0.1169      1.224     -0.096      0.924      -2.531       2.297\n",
       "C(age_Group)[T.Old]:C(density_Group)[T.Dense3]      -1.0047      1.224     -0.821      0.413      -3.419       1.409\n",
       "C(age_Group)[T.Young]:C(density_Group)[T.Dense3]    -0.3018      1.224     -0.247      0.805      -2.716       2.112\n",
       "C(age_Group)[T.Old]:C(density_Group)[T.Dense4]      -1.1273      1.224     -0.921      0.358      -3.541       1.287\n",
       "C(age_Group)[T.Young]:C(density_Group)[T.Dense4]    -0.0881      1.224     -0.072      0.943      -2.502       2.326\n",
       "==============================================================================\n",
       "Omnibus:                       34.200   Durbin-Watson:                   1.934\n",
       "Prob(Omnibus):                  0.000   Jarque-Bera (JB):               49.587\n",
       "Skew:                          -0.974   Prob(JB):                     1.71e-11\n",
       "Kurtosis:                       4.429   Cond. No.                         17.9\n",
       "==============================================================================\n",
       "\n",
       "Warnings:\n",
       "[1] Standard Errors assume that the covariance matrix of the errors is correctly specified.\n",
       "\"\"\""
      ]
     },
     "execution_count": 246,
     "metadata": {},
     "output_type": "execute_result"
    }
   ],
   "source": [
    "#Approach 2.\n",
    "formula = 'newCount ~ C(age_Group) *C(density_Group)'\n",
    "model = ols(formula, AnovaData).fit()\n",
    "\n",
    "model.summary()\n",
    "\n"
   ]
  },
  {
   "cell_type": "code",
   "execution_count": 247,
   "metadata": {},
   "outputs": [
    {
     "name": "stdout",
     "output_type": "stream",
     "text": [
      "                                  sum_sq     df        F  PR(>F)\n",
      "C(age_Group)                    116.8435    2.0   9.1781  0.0002\n",
      "C(density_Group)                924.0424    3.0  48.3893  0.0000\n",
      "C(age_Group):C(density_Group)     7.8047    6.0   0.2044  0.9751\n",
      "Residual                       1222.1441  192.0      NaN     NaN\n"
     ]
    }
   ],
   "source": [
    "aov_table = anova_lm(model, typ=2)\n",
    "print(aov_table.round(4))"
   ]
  },
  {
   "cell_type": "code",
   "execution_count": 248,
   "metadata": {},
   "outputs": [
    {
     "data": {
      "image/png": "[encoded data removed]",
      "text/plain": [
       "<Figure size 432x288 with 1 Axes>"
      ]
     },
     "metadata": {
      "needs_background": "light"
     },
     "output_type": "display_data"
    }
   ],
   "source": [
    "#Check the Normal distribution of residuals\n",
    "res = model2.resid \n",
    "fig = sm.qqplot(res, line='s')\n",
    "plt.show()"
   ]
  },
  {
   "cell_type": "code",
   "execution_count": 244,
   "metadata": {},
   "outputs": [
    {
     "data": {
      "text/html": [
       "<table class=\"simpletable\">\n",
       "<caption>OLS Regression Results</caption>\n",
       "<tr>\n",
       "  <th>Dep. Variable:</th>        <td>newCount</td>     <th>  R-squared:         </th> <td>   0.462</td>\n",
       "</tr>\n",
       "<tr>\n",
       "  <th>Model:</th>                   <td>OLS</td>       <th>  Adj. R-squared:    </th> <td>   0.431</td>\n",
       "</tr>\n",
       "<tr>\n",
       "  <th>Method:</th>             <td>Least Squares</td>  <th>  F-statistic:       </th> <td>   14.98</td>\n",
       "</tr>\n",
       "<tr>\n",
       "  <th>Date:</th>             <td>Wed, 13 May 2020</td> <th>  Prob (F-statistic):</th> <td>8.71e-21</td>\n",
       "</tr>\n",
       "<tr>\n",
       "  <th>Time:</th>                 <td>20:30:45</td>     <th>  Log-Likelihood:    </th> <td> -472.07</td>\n",
       "</tr>\n",
       "<tr>\n",
       "  <th>No. Observations:</th>      <td>   204</td>      <th>  AIC:               </th> <td>   968.1</td>\n",
       "</tr>\n",
       "<tr>\n",
       "  <th>Df Residuals:</th>          <td>   192</td>      <th>  BIC:               </th> <td>   1008.</td>\n",
       "</tr>\n",
       "<tr>\n",
       "  <th>Df Model:</th>              <td>    11</td>      <th>                     </th>     <td> </td>   \n",
       "</tr>\n",
       "<tr>\n",
       "  <th>Covariance Type:</th>      <td>nonrobust</td>    <th>                     </th>     <td> </td>   \n",
       "</tr>\n",
       "</table>\n",
       "<table class=\"simpletable\">\n",
       "<tr>\n",
       "                          <td></td>                            <th>coef</th>     <th>std err</th>      <th>t</th>      <th>P>|t|</th>  <th>[0.025</th>    <th>0.975]</th>  \n",
       "</tr>\n",
       "<tr>\n",
       "  <th>Intercept</th>                                        <td>    5.5649</td> <td>    0.612</td> <td>    9.094</td> <td> 0.000</td> <td>    4.358</td> <td>    6.772</td>\n",
       "</tr>\n",
       "<tr>\n",
       "  <th>C(age_Group)[T.Old]</th>                              <td>    2.5162</td> <td>    0.865</td> <td>    2.908</td> <td> 0.004</td> <td>    0.809</td> <td>    4.223</td>\n",
       "</tr>\n",
       "<tr>\n",
       "  <th>C(age_Group)[T.Young]</th>                            <td>    0.7083</td> <td>    0.865</td> <td>    0.819</td> <td> 0.414</td> <td>   -0.999</td> <td>    2.415</td>\n",
       "</tr>\n",
       "<tr>\n",
       "  <th>C(density_Group)[T.Dense2]</th>                       <td>    5.0590</td> <td>    0.865</td> <td>    5.846</td> <td> 0.000</td> <td>    3.352</td> <td>    6.766</td>\n",
       "</tr>\n",
       "<tr>\n",
       "  <th>C(density_Group)[T.Dense3]</th>                       <td>   -0.3141</td> <td>    0.865</td> <td>   -0.363</td> <td> 0.717</td> <td>   -2.021</td> <td>    1.393</td>\n",
       "</tr>\n",
       "<tr>\n",
       "  <th>C(density_Group)[T.Dense4]</th>                       <td>    1.6194</td> <td>    0.865</td> <td>    1.871</td> <td> 0.063</td> <td>   -0.087</td> <td>    3.326</td>\n",
       "</tr>\n",
       "<tr>\n",
       "  <th>C(age_Group)[T.Old]:C(density_Group)[T.Dense2]</th>   <td>   -0.6723</td> <td>    1.224</td> <td>   -0.549</td> <td> 0.583</td> <td>   -3.086</td> <td>    1.742</td>\n",
       "</tr>\n",
       "<tr>\n",
       "  <th>C(age_Group)[T.Young]:C(density_Group)[T.Dense2]</th> <td>   -0.1169</td> <td>    1.224</td> <td>   -0.096</td> <td> 0.924</td> <td>   -2.531</td> <td>    2.297</td>\n",
       "</tr>\n",
       "<tr>\n",
       "  <th>C(age_Group)[T.Old]:C(density_Group)[T.Dense3]</th>   <td>   -1.0047</td> <td>    1.224</td> <td>   -0.821</td> <td> 0.413</td> <td>   -3.419</td> <td>    1.409</td>\n",
       "</tr>\n",
       "<tr>\n",
       "  <th>C(age_Group)[T.Young]:C(density_Group)[T.Dense3]</th> <td>   -0.3018</td> <td>    1.224</td> <td>   -0.247</td> <td> 0.805</td> <td>   -2.716</td> <td>    2.112</td>\n",
       "</tr>\n",
       "<tr>\n",
       "  <th>C(age_Group)[T.Old]:C(density_Group)[T.Dense4]</th>   <td>   -1.1273</td> <td>    1.224</td> <td>   -0.921</td> <td> 0.358</td> <td>   -3.541</td> <td>    1.287</td>\n",
       "</tr>\n",
       "<tr>\n",
       "  <th>C(age_Group)[T.Young]:C(density_Group)[T.Dense4]</th> <td>   -0.0881</td> <td>    1.224</td> <td>   -0.072</td> <td> 0.943</td> <td>   -2.502</td> <td>    2.326</td>\n",
       "</tr>\n",
       "</table>\n",
       "<table class=\"simpletable\">\n",
       "<tr>\n",
       "  <th>Omnibus:</th>       <td>34.200</td> <th>  Durbin-Watson:     </th> <td>   1.934</td>\n",
       "</tr>\n",
       "<tr>\n",
       "  <th>Prob(Omnibus):</th> <td> 0.000</td> <th>  Jarque-Bera (JB):  </th> <td>  49.587</td>\n",
       "</tr>\n",
       "<tr>\n",
       "  <th>Skew:</th>          <td>-0.974</td> <th>  Prob(JB):          </th> <td>1.71e-11</td>\n",
       "</tr>\n",
       "<tr>\n",
       "  <th>Kurtosis:</th>      <td> 4.429</td> <th>  Cond. No.          </th> <td>    17.9</td>\n",
       "</tr>\n",
       "</table><br/><br/>Warnings:<br/>[1] Standard Errors assume that the covariance matrix of the errors is correctly specified."
      ],
      "text/plain": [
       "<class 'statsmodels.iolib.summary.Summary'>\n",
       "\"\"\"\n",
       "                            OLS Regression Results                            \n",
       "==============================================================================\n",
       "Dep. Variable:               newCount   R-squared:                       0.462\n",
       "Model:                            OLS   Adj. R-squared:                  0.431\n",
       "Method:                 Least Squares   F-statistic:                     14.98\n",
       "Date:                Wed, 13 May 2020   Prob (F-statistic):           8.71e-21\n",
       "Time:                        20:30:45   Log-Likelihood:                -472.07\n",
       "No. Observations:                 204   AIC:                             968.1\n",
       "Df Residuals:                     192   BIC:                             1008.\n",
       "Df Model:                          11                                         \n",
       "Covariance Type:            nonrobust                                         \n",
       "====================================================================================================================\n",
       "                                                       coef    std err          t      P>|t|      [0.025      0.975]\n",
       "--------------------------------------------------------------------------------------------------------------------\n",
       "Intercept                                            5.5649      0.612      9.094      0.000       4.358       6.772\n",
       "C(age_Group)[T.Old]                                  2.5162      0.865      2.908      0.004       0.809       4.223\n",
       "C(age_Group)[T.Young]                                0.7083      0.865      0.819      0.414      -0.999       2.415\n",
       "C(density_Group)[T.Dense2]                           5.0590      0.865      5.846      0.000       3.352       6.766\n",
       "C(density_Group)[T.Dense3]                          -0.3141      0.865     -0.363      0.717      -2.021       1.393\n",
       "C(density_Group)[T.Dense4]                           1.6194      0.865      1.871      0.063      -0.087       3.326\n",
       "C(age_Group)[T.Old]:C(density_Group)[T.Dense2]      -0.6723      1.224     -0.549      0.583      -3.086       1.742\n",
       "C(age_Group)[T.Young]:C(density_Group)[T.Dense2]    -0.1169      1.224     -0.096      0.924      -2.531       2.297\n",
       "C(age_Group)[T.Old]:C(density_Group)[T.Dense3]      -1.0047      1.224     -0.821      0.413      -3.419       1.409\n",
       "C(age_Group)[T.Young]:C(density_Group)[T.Dense3]    -0.3018      1.224     -0.247      0.805      -2.716       2.112\n",
       "C(age_Group)[T.Old]:C(density_Group)[T.Dense4]      -1.1273      1.224     -0.921      0.358      -3.541       1.287\n",
       "C(age_Group)[T.Young]:C(density_Group)[T.Dense4]    -0.0881      1.224     -0.072      0.943      -2.502       2.326\n",
       "==============================================================================\n",
       "Omnibus:                       34.200   Durbin-Watson:                   1.934\n",
       "Prob(Omnibus):                  0.000   Jarque-Bera (JB):               49.587\n",
       "Skew:                          -0.974   Prob(JB):                     1.71e-11\n",
       "Kurtosis:                       4.429   Cond. No.                         17.9\n",
       "==============================================================================\n",
       "\n",
       "Warnings:\n",
       "[1] Standard Errors assume that the covariance matrix of the errors is correctly specified.\n",
       "\"\"\""
      ]
     },
     "execution_count": 244,
     "metadata": {},
     "output_type": "execute_result"
    }
   ],
   "source": [
    "###Approch 3.\n",
    "\n",
    "formula = 'newCount ~ C(age_Group) + C(density_Group) + C(age_Group):C(density_Group)'\n",
    "model = ols(formula, AnovaData).fit()\n",
    "\n",
    "model.summary()\n",
    "\n"
   ]
  },
  {
   "cell_type": "code",
   "execution_count": 245,
   "metadata": {},
   "outputs": [
    {
     "name": "stdout",
     "output_type": "stream",
     "text": [
      "                                    sum_sq     df          F        PR(>F)\n",
      "C(age_Group)                    116.843479    2.0   9.178111  1.560282e-04\n",
      "C(density_Group)                924.042364    3.0  48.389313  2.448503e-23\n",
      "C(age_Group):C(density_Group)     7.804715    6.0   0.204355  9.751253e-01\n",
      "Residual                       1222.144053  192.0        NaN           NaN\n"
     ]
    }
   ],
   "source": [
    "aov_table = statsmodels.stats.anova.anova_lm(model, typ=2)\n",
    "print(aov_table)"
   ]
  },
  {
   "cell_type": "code",
   "execution_count": 164,
   "metadata": {},
   "outputs": [],
   "source": [
    "#Interpretation: The P-value obtained from ANOVA analysis for genotype, years, and interaction are statistically significant \n",
    "#(P<0.05). We conclude that type of density_Group significantly affects the corona cases outcome,\n",
    "#age_Group significantly affects the corona cases outcome outcome, and interaction of both age_Group and density_Group \n",
    "#significantly affects the corona cases outcome outcome."
   ]
  },
  {
   "cell_type": "code",
   "execution_count": 165,
   "metadata": {},
   "outputs": [
    {
     "data": {
      "text/plain": [
       "density_Group     object\n",
       "age_Group         object\n",
       "newCount         float64\n",
       "dtype: object"
      ]
     },
     "execution_count": 165,
     "metadata": {},
     "output_type": "execute_result"
    }
   ],
   "source": [
    "AnovaData.dtypes"
   ]
  },
  {
   "cell_type": "code",
   "execution_count": 166,
   "metadata": {},
   "outputs": [
    {
     "data": {
      "text/html": [
       "<div>\n",
       "<style scoped>\n",
       "    .dataframe tbody tr th:only-of-type {\n",
       "        vertical-align: middle;\n",
       "    }\n",
       "\n",
       "    .dataframe tbody tr th {\n",
       "        vertical-align: top;\n",
       "    }\n",
       "\n",
       "    .dataframe thead th {\n",
       "        text-align: right;\n",
       "    }\n",
       "</style>\n",
       "<table border=\"1\" class=\"dataframe\">\n",
       "  <thead>\n",
       "    <tr style=\"text-align: right;\">\n",
       "      <th></th>\n",
       "      <th>density_Group</th>\n",
       "      <th>age_Group</th>\n",
       "      <th>newCount</th>\n",
       "    </tr>\n",
       "  </thead>\n",
       "  <tbody>\n",
       "    <tr>\n",
       "      <th>0</th>\n",
       "      <td>Dense1</td>\n",
       "      <td>Adult</td>\n",
       "      <td>8.182329</td>\n",
       "    </tr>\n",
       "    <tr>\n",
       "      <th>1</th>\n",
       "      <td>Dense1</td>\n",
       "      <td>Adult</td>\n",
       "      <td>1.821831</td>\n",
       "    </tr>\n",
       "    <tr>\n",
       "      <th>2</th>\n",
       "      <td>Dense1</td>\n",
       "      <td>Adult</td>\n",
       "      <td>4.754236</td>\n",
       "    </tr>\n",
       "    <tr>\n",
       "      <th>3</th>\n",
       "      <td>Dense1</td>\n",
       "      <td>Adult</td>\n",
       "      <td>4.553696</td>\n",
       "    </tr>\n",
       "    <tr>\n",
       "      <th>4</th>\n",
       "      <td>Dense1</td>\n",
       "      <td>Adult</td>\n",
       "      <td>8.729745</td>\n",
       "    </tr>\n",
       "  </tbody>\n",
       "</table>\n",
       "</div>"
      ],
      "text/plain": [
       "  density_Group age_Group  newCount\n",
       "0        Dense1     Adult  8.182329\n",
       "1        Dense1     Adult  1.821831\n",
       "2        Dense1     Adult  4.754236\n",
       "3        Dense1     Adult  4.553696\n",
       "4        Dense1     Adult  8.729745"
      ]
     },
     "execution_count": 166,
     "metadata": {},
     "output_type": "execute_result"
    }
   ],
   "source": [
    "AnovaData.head()"
   ]
  },
  {
   "cell_type": "code",
   "execution_count": 249,
   "metadata": {},
   "outputs": [
    {
     "name": "stdout",
     "output_type": "stream",
     "text": [
      "Multiple Comparison of Means - Tukey HSD, FWER=0.05 \n",
      "====================================================\n",
      "group1 group2 meandiff p-adj   lower   upper  reject\n",
      "----------------------------------------------------\n",
      "Dense1 Dense2   4.7959  0.001  3.4645  6.1273   True\n",
      "Dense1 Dense3  -0.7496 0.4656  -2.081  0.5818  False\n",
      "Dense1 Dense4   1.2143 0.0876 -0.1171  2.5457  False\n",
      "Dense2 Dense3  -5.5455  0.001 -6.8769 -4.2141   True\n",
      "Dense2 Dense4  -3.5816  0.001  -4.913 -2.2502   True\n",
      "Dense3 Dense4   1.9639  0.001  0.6325  3.2953   True\n",
      "----------------------------------------------------\n"
     ]
    }
   ],
   "source": [
    "#Post hoc test\n",
    "mc = statsmodels.stats.multicomp.MultiComparison(AnovaData['newCount'],AnovaData['density_Group'])\n",
    "mc_results = mc.tukeyhsd()\n",
    "print(mc_results)"
   ]
  },
  {
   "cell_type": "code",
   "execution_count": 250,
   "metadata": {},
   "outputs": [
    {
     "name": "stdout",
     "output_type": "stream",
     "text": [
      "Multiple Comparison of Means - Tukey HSD, FWER=0.05\n",
      "===================================================\n",
      "group1 group2 meandiff p-adj   lower  upper  reject\n",
      "---------------------------------------------------\n",
      " Adult    Old   1.8152 0.0041  0.4895 3.1409   True\n",
      " Adult  Young   0.5816 0.5519 -0.7441 1.9073  False\n",
      "   Old  Young  -1.2336 0.0742 -2.5593 0.0921  False\n",
      "---------------------------------------------------\n"
     ]
    }
   ],
   "source": [
    "#Post hoc test\n",
    "mc = statsmodels.stats.multicomp.MultiComparison(AnovaData['newCount'],AnovaData['age_Group'])\n",
    "mc_results = mc.tukeyhsd()\n",
    "print(mc_results)"
   ]
  },
  {
   "cell_type": "code",
   "execution_count": null,
   "metadata": {},
   "outputs": [],
   "source": []
  }
 ],
 "metadata": {
  "kernelspec": {
   "display_name": "Python 3",
   "language": "python",
   "name": "python3"
  },
  "language_info": {
   "codemirror_mode": {
    "name": "ipython",
    "version": 3
   },
   "file_extension": ".py",
   "mimetype": "text/x-python",
   "name": "python",
   "nbconvert_exporter": "python",
   "pygments_lexer": "ipython3",
   "version": "3.7.6"
  }
 },
 "nbformat": 4,
 "nbformat_minor": 4
}
